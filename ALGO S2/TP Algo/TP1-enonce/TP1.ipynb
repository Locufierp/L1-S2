{
 "cells": [
  {
   "cell_type": "markdown",
   "metadata": {
    "editable": false,
    "slideshow": {
     "slide_type": ""
    },
    "tags": []
   },
   "source": [
    "#### Université d’Orléans - 2024/2025  <span style=\"float: right;\"> Algorithmique et Programmation 2</span>     "
   ]
  },
  {
   "cell_type": "markdown",
   "metadata": {
    "editable": false,
    "slideshow": {
     "slide_type": ""
    },
    "tags": []
   },
   "source": [
    "<h1 style=\"text-align: center\">Gestion d’images</h1>"
   ]
  },
  {
   "cell_type": "markdown",
   "metadata": {
    "editable": true,
    "slideshow": {
     "slide_type": ""
    },
    "tags": []
   },
   "source": [
    "L’objectif de ce TP est de reprendre les filtres d’image traités lors du [TD1](https://celene.univ-orleans.fr/pluginfile.php/1818474/mod_folder/content/0/TD1-revisions.pdf) et d’en faire une classe `Image`. \n",
    "\n",
    "<div class=\"alert alert-success\">\n",
    "\n",
    "Les images ne sont utilisées que comme support pour l’apprentissage d’autres outils : gestion et parcours de listes, création et manipulation de classes, implémentation de méthodes récursives et impératives, …\n",
    "\n",
    "</div>\n",
    "\n",
    "<div class=\"alert alert-warning\">\n",
    "\n",
    "Pour que le sujet fonctionne correctement, la cellule suivante doit être exécutée. Elle permet d’initialiser une variable `image` qui contiendra toutes les informations nécessaires et sera décrite ci-après. \n",
    "\n",
    "</div>"
   ]
  },
  {
   "cell_type": "code",
   "execution_count": null,
   "metadata": {
    "editable": false,
    "scrolled": true,
    "slideshow": {
     "slide_type": ""
    },
    "tags": []
   },
   "outputs": [],
   "source": [
    "import pickle # librairie permettant la sauvegarde/lecture d’objets dans/depuis des fichiers (CM4)\n",
    "\n",
    "with open(\"astronaut.pkl\", \"rb\") as f:\n",
    "    image = pickle.load(f)\n",
    "\n",
    "print(type(image)) # image est une liste de liste"
   ]
  },
  {
   "cell_type": "markdown",
   "metadata": {
    "editable": false,
    "slideshow": {
     "slide_type": ""
    },
    "tags": []
   },
   "source": [
    "### Niveau de gris\n",
    "\n",
    "L’image fournie est en couleurs, les éléments de la liste de listes sont donc de type `tuple`, contenant trois valeurs correspondant aux intensités `R`ouge, `V`ert et `B`leu de l’image (`RGB` pour les anglophones). Par exemple, les cinq premiers pixels de l’image ci-dessus peuvent s’afficher comme suit : \n",
    "\n",
    "```python\n",
    "print(image[0][0:5])\n",
    "[[154, 147, 151], [109, 103, 124], [63, 58, 102], [54, 51, 98], [76, 76, 106]]\n",
    "```\n",
    "\n",
    "Donner le code de la fonction `niveau_de_gris`, prenant en paramètres une image et retournant l’image `RGB` en niveau de gris selon la formule vue en TD : \n",
    "\n",
    "$$\n",
    "    0.2125*R + 0.7154*V + 0.0721*B\n",
    "$$\n",
    "\n",
    "<div class=\"alert alert-info\">\n",
    "\n",
    "L’instruction `pass` permet à `python` d’ignorer un bloc d’instructions sans erreur d’interprétations. Les lignes contenant ce mot-clé sont donc à remplacer par les instructions appropriées.\n",
    "\n",
    "</div>"
   ]
  },
  {
   "cell_type": "code",
   "execution_count": null,
   "metadata": {
    "editable": true,
    "slideshow": {
     "slide_type": ""
    },
    "tags": []
   },
   "outputs": [],
   "source": [
    "def niveau_de_gris(image):\n",
    "    \"\"\" Cette fonction convertit l’image passée en paramètre en niveau de gris, selon la formule vue en TD : \n",
    "\n",
    "    0.2125*R + 0.7154*V + 0.0721*B\n",
    "\n",
    "    Une liste de listes contenant les nouvelles valeurs est retournée\n",
    "    \"\"\"\n",
    "    pass"
   ]
  },
  {
   "cell_type": "markdown",
   "metadata": {
    "slideshow": {
     "slide_type": ""
    },
    "tags": []
   },
   "source": [
    "<div class=\"alert alert-success\">\n",
    "\n",
    "**Cellule de test.** Décommenter les lignes commençant par `##` pour tester l’implémentation de la fonction `niveau_de_gris`.\n",
    "\n",
    "</div>"
   ]
  },
  {
   "cell_type": "code",
   "execution_count": null,
   "metadata": {
    "editable": true,
    "slideshow": {
     "slide_type": ""
    },
    "tags": []
   },
   "outputs": [],
   "source": [
    "# La première cellule doit être exécutée\n",
    "import matplotlib.pyplot as plt\n",
    "##image_niveau_de_gris = niveau_de_gris(image)\n",
    "\n",
    "fig, ax = plt.subplots(1, 2, figsize=(6, 4))\n",
    "\n",
    "ax[0].imshow(image, cmap=plt.cm.gray)\n",
    "ax[0].set_title(\"Image originale\")\n",
    "##ax[1].imshow(image_niveau_de_gris, cmap=plt.cm.gray)\n",
    "##ax[1].set_title(\"Image en niveau de gris\")\n",
    "\n",
    "# Cette commande permet de ne pas afficher de repère\n",
    "for a in ax.ravel():\n",
    "    a.set_axis_off()\n",
    "\n",
    "fig.tight_layout()\n",
    "plt.show()"
   ]
  },
  {
   "cell_type": "markdown",
   "metadata": {
    "editable": true,
    "slideshow": {
     "slide_type": ""
    },
    "tags": []
   },
   "source": [
    "## La mise en classe\n",
    "\n",
    "### Les attributs et l’initialisation\n",
    "\n",
    "Les images ont de nombreux points communs, qui peuvent être encapsulés en tant qu’attributs de la classe. \n",
    "Pour une gestion simplifiée, on se propose de créer trois attributs : \n",
    "\n",
    "- `hauteur` contenant le nombre de pixels de l’image en hauteur (son nombre de **lignes**) \n",
    "- `largeur` contenant le nombre de pixels de l’image en largeur (son nombre de **colonnes**)\n",
    "- `image` qui représentera les pixels de l’image (une liste de listes)\n",
    "\n",
    "## Une première classe\n",
    "\n",
    "Dans un premier temps, nous allons créer une classe `ImageSeuillee` faisant les deux choses suivantes : \n",
    "\n",
    "- initialisation de l’objet image avec la méthode `__init__(self, <arguments éventuels>)`\n",
    "- seuillage de l’image en fonction d’un argument `S`, de valeur par défaut `150`. Contrairement au `TD`, un pixel avec une valeur en dessous du seuil sera mis à `0`, alors qu’un pixel avec une valeur supérieure prendra comme valeur **le maximum des valeurs de l’image originale**. \n",
    "\n",
    "Il est bien sûr possible d’ajouter d’autres méthodes si nécessaire. "
   ]
  },
  {
   "cell_type": "code",
   "execution_count": null,
   "metadata": {
    "slideshow": {
     "slide_type": ""
    },
    "tags": []
   },
   "outputs": [],
   "source": [
    "class ImageSeuillee:\n",
    "    \"\"\" Gestion d’images en niveau de gris (la conversion se fait au sein de la classe)\n",
    "\n",
    "    Attributes:\n",
    "        hauteur: le nombre de lignes de l’image\n",
    "        largeur: le nombre de colonnes de l’image\n",
    "        image: une liste de listes\n",
    "    \"\"\"\n",
    "    def __init__(self, image, hauteur, largeur):\n",
    "        \"\"\" Initialise les attributs de l’image avec les paramètres donnés. \n",
    "        \"\"\"\n",
    "        pass\n",
    "                \n",
    "    def seuil(self, S = 150):\n",
    "        pass\n",
    "                "
   ]
  },
  {
   "cell_type": "markdown",
   "metadata": {
    "slideshow": {
     "slide_type": ""
    },
    "tags": []
   },
   "source": [
    "## Comment tester\n",
    "\n",
    "Le code ci-dessous permet de tester votre classe en plusieurs étapes : \n",
    "\n",
    "- création de l’objet de type `ImageSeuillee` à partir de la variable `image`\n",
    "- création d’une image en niveau de gris avec un appel à la fonction `niveau_de_gris` \n",
    "- affichage des deux images avec la librairie `matplotlib` : il n’est pas nécessaire de comprendre en détails ce que fait ce code\n",
    "\n",
    "<div class=\"alert alert-warning\">\n",
    "\n",
    "Il est bien évidemment nécessaire de décommenter les instructions générant l’image seuillée pour pouvoir testes correctement le code.\n",
    "\n",
    "</div>"
   ]
  },
  {
   "cell_type": "code",
   "execution_count": null,
   "metadata": {
    "editable": true,
    "slideshow": {
     "slide_type": ""
    },
    "tags": []
   },
   "outputs": [],
   "source": [
    "# La première cellule doit être exécutée\n",
    "image_niveau_de_gris = niveau_de_gris(image)\n",
    "mon_objet_image = ImageSeuillee(image_niveau_de_gris, len(image), len(image[0])) # création de l’objet Image à réaliser\n",
    "fig, ax = plt.subplots(1, 2, figsize=(6, 4))\n",
    "\n",
    "##ax[0].imshow(image_niveau_de_gris, cmap=plt.cm.gray)\n",
    "##ax[0].set_title(\"Image en niveau de gris\")\n",
    "\n",
    "##mon_image_seuillee = mon_objet_image.seuil()\n",
    "##ax[1].imshow(mon_image_seuillee.image, cmap=plt.cm.gray)\n",
    "##ax[1].set_title(\"Image seuillée\")\n",
    "\n",
    "# Cette commande permet de ne pas afficher de repère\n",
    "for a in ax.ravel():\n",
    "    a.set_axis_off()\n",
    "\n",
    "fig.tight_layout()\n",
    "plt.show()"
   ]
  },
  {
   "cell_type": "markdown",
   "metadata": {
    "editable": true,
    "slideshow": {
     "slide_type": ""
    },
    "tags": []
   },
   "source": [
    "## Ajout de nouveaux filtres\n",
    "\n",
    "Nous allons maintenant enrichir notre classe avec les autres filtres vus en TD. Nous allons pour cela créer une nouvelle classe `Image`, copie de la classe `ImageSimple` à laquelle chaque filtre correspondra à une méthode. Pour rappel, les filtres vus en TD sont les suivants : \n",
    "\n",
    "- `negatif` : la valeur des pixels de l’image sont inversés\n",
    "- `gradient` : chaque pixel est remplacé par la différence entre sa valeur et la valeur du pixel situé sur la ligne précédente (on parle alors de _gradient vertical_, le _gradient horizontal_ se définissant de manière similaire)\n",
    "- `flou` : étant donné une longueur entière `c`, l’image est découpée en carré de côté `c` où la valeur de chaque pixel est remplacée par la moyenne des valeurs du carré.\n",
    "\n",
    "<div class=\"alert alert-info\">\n",
    "\n",
    "**Hypothèse** pour le filtre `flou` : l’image est carrée et l’entier `c` est un diviseur de la dimension de l’image.\n",
    "\n",
    "</div>\n",
    "\n",
    "<div class=\"alert alert-warning\">\n",
    "\n",
    "**Approfondissement** : si ce n’est pas déjà fait, proposer une méthode récursive floutant l’image (avec les mêmes hypothèses sur `c` et la dimension de l’image.) \n",
    "\n",
    "</div>"
   ]
  },
  {
   "cell_type": "code",
   "execution_count": null,
   "metadata": {
    "editable": true,
    "slideshow": {
     "slide_type": ""
    },
    "tags": []
   },
   "outputs": [],
   "source": [
    "# Création de la classe Image à partir de la classe ImageSeuillee"
   ]
  },
  {
   "cell_type": "code",
   "execution_count": null,
   "metadata": {
    "editable": true,
    "slideshow": {
     "slide_type": ""
    },
    "tags": []
   },
   "outputs": [],
   "source": [
    "# La première cellule doit être exécutée\n",
    "image_niveau_de_gris = niveau_de_gris(image)\n",
    "##mon_objet_image = Image(image_niveau_de_gris, len(image), len(image[0])) # création de l’objet Image à réaliser\n",
    "\n",
    "##flou_recursif = mon_objet_image.flou_recursif(32)\n",
    "##negatif = mon_objet_image.negatif()\n",
    "##seuil = mon_objet_image.seuil()\n",
    "##gradient = mon_objet_image.gradient()\n",
    "\n",
    "fig, ax = plt.subplots(3, 2, figsize=(8, 4))\n",
    "\n",
    "ax[0][0].imshow(image, cmap=plt.cm.gray)\n",
    "ax[0][0].set_title(\"Image originale\")\n",
    "##ax[0][1].imshow(image_niveau_de_gris, cmap=plt.cm.gray)\n",
    "##ax[0][1].set_title(\"Image originale\")\n",
    "\n",
    "##ax[1][0].imshow(flou_recursif.image, cmap=plt.cm.gray)\n",
    "##ax[1][0].set_title(\"Image floutée\")\n",
    "##ax[1][1].imshow(seuil.image, cmap=plt.cm.gray)\n",
    "##ax[1][1].set_title(\"Avec seuil\")\n",
    "##ax[2][0].imshow(negatif.image, cmap=plt.cm.gray)\n",
    "##ax[2][0].set_title(\"Effet négatif\")\n",
    "##ax[2][1].imshow(gradient.image, cmap=plt.cm.gray)\n",
    "##ax[2][1].set_title(\"Gradient horizontal\")\n",
    "\n",
    "for a in ax.ravel():\n",
    "    a.set_axis_off()\n",
    "\n",
    "fig.tight_layout()\n",
    "plt.show()"
   ]
  },
  {
   "cell_type": "markdown",
   "metadata": {
    "editable": false,
    "slideshow": {
     "slide_type": ""
    },
    "tags": []
   },
   "source": [
    "# Filtres de convolution\n",
    "\n",
    "Derrière ce nom effrayant se cache en fait un concept simple et assez proche du gradient. L’idée du **traitement par convolution** est d’appliquer un filtre sur l’image via une petite matrice (de dimension $3 \\times 3$ dans nos exemples). Par l’image (extraite de ce [très bon tutoriel](https://datacorner.fr/image-processing-6/)) : \n",
    "\n",
    "<div style=\"width:600px;margin: auto;\">\n",
    "    \n",
    "![Explication de la convolution d’image](convolution.jpg)\n",
    "\n",
    "</div>\n",
    "\n",
    "Dans cet exemple, toutes les valeurs du filtre sont fixées à $0.5$ et la valeur du pixel correspondant dans la nouvelle image est obtenue en faisant la somme des produits des pixels de l’image d’origine et de la matrice de convolution. \n",
    "\n",
    "<div class=\"alert alert-warning\">\n",
    "\n",
    "On remarque que cette définition n’est pas applicable pour les pixels au bord de l’image d’origine, dans la mesure où la matrice de convolution «déborde». Plusieurs solutions existent pour régler ce problème : **par souci de simplicité, il est demandé de mettre tous les pixels du bord à 0 et de ne pas les considérer dans le traitement**.\n",
    "\n",
    "</div>\n",
    "\n",
    "+ Donner le code d’une fonction `convolution` qui prend en paramètres une `Image` et une matrice de convolution (de dimension $n \\times n$) et qui renvoie l’image sur laquelle le filtre a été appliqué."
   ]
  },
  {
   "cell_type": "code",
   "execution_count": null,
   "metadata": {
    "editable": true,
    "slideshow": {
     "slide_type": ""
    },
    "tags": []
   },
   "outputs": [],
   "source": [
    "def convolution(image, matrice):\n",
    "    pass"
   ]
  },
  {
   "cell_type": "markdown",
   "metadata": {
    "editable": false,
    "slideshow": {
     "slide_type": ""
    },
    "tags": []
   },
   "source": [
    "<div class=\"alert alert-warning\">\n",
    "\n",
    "**Cellule de test**. Différents filtres sont proposés pour réaliser des tests. \n",
    "\n",
    "</div>\n",
    "\n",
    "<div class=\"alert alert-info\">\n",
    "\n",
    "Pour visualiser le fonctionnement d’un filtre de convolution et découvrir d’autres filtres, utiliser ce [très bon outil](https://setosa.io/ev/image-kernels/).\n",
    "\n",
    "</div>"
   ]
  },
  {
   "cell_type": "code",
   "execution_count": null,
   "metadata": {
    "editable": true,
    "slideshow": {
     "slide_type": ""
    },
    "tags": []
   },
   "outputs": [],
   "source": [
    "# différents filtres de convolution utilisables\n",
    "blur = [ [0.0625, 0.125, 0.0625 ], [0.125, 0.25, 0.125], [0.0625, 0.125, 0.0625 ] ]\n",
    "bottom_sobel = [ [-1, -2, -1], [0 ,0 ,0], [1, 2, 1] ]\n",
    "emboss = [ [-2, -1, 0], [-1, 1, 1], [0, 1, 2] ]\n",
    "outline = [ [-1, -1, -1], [-1, 8, -1], [-1, -1, -1] ]\n",
    "\n",
    "## remplacer l’argument de la fonction convolution par d’autres filtres pour tester\n",
    "image_conv = convolution(mon_objet_image, emboss)"
   ]
  },
  {
   "cell_type": "code",
   "execution_count": null,
   "metadata": {
    "editable": true,
    "slideshow": {
     "slide_type": ""
    },
    "tags": []
   },
   "outputs": [],
   "source": [
    "# La première cellule doit être exécutée\n",
    "fig, ax = plt.subplots(1, 2, figsize=(12, 48))\n",
    "\n",
    "ax[0].imshow(mon_objet_image.image, cmap=plt.cm.gray)\n",
    "ax[0].set_title(\"Image en niveau de gris\")\n",
    "\n",
    "mon_image_seuillee = mon_objet_image.seuil()\n",
    "ax[1].imshow(image_conv.image, cmap=plt.cm.gray)\n",
    "ax[1].set_title(\"Image après application du filtre de convolution\")\n",
    "\n",
    "# Cette commande permet de ne pas afficher de repère\n",
    "for a in ax.ravel():\n",
    "    a.set_axis_off()\n",
    "\n",
    "fig.tight_layout()\n",
    "plt.show()"
   ]
  }
 ],
 "metadata": {
  "kernelspec": {
   "display_name": "Python 3 (ipykernel)",
   "language": "python",
   "name": "python3"
  },
  "language_info": {
   "codemirror_mode": {
    "name": "ipython",
    "version": 3
   },
   "file_extension": ".py",
   "mimetype": "text/x-python",
   "name": "python",
   "nbconvert_exporter": "python",
   "pygments_lexer": "ipython3",
   "version": "3.10.8"
  }
 },
 "nbformat": 4,
 "nbformat_minor": 4
}
