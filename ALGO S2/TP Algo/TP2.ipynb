{
 "cells": [
  {
   "cell_type": "markdown",
   "metadata": {
    "editable": false,
    "slideshow": {
     "slide_type": ""
    },
    "tags": []
   },
   "source": [
    "#### Université d’Orléans - 2024/2025  <span style=\"float: right;\"> Algorithmique et Programmation 2</span>     "
   ]
  },
  {
   "cell_type": "markdown",
   "metadata": {
    "editable": false,
    "slideshow": {
     "slide_type": ""
    },
    "tags": []
   },
   "source": [
    "<h1 style=\"text-align: center\">Pancake sorting et évaluation d’expression arithmétique</h1>"
   ]
  },
  {
   "cell_type": "markdown",
   "metadata": {
    "editable": false,
    "slideshow": {
     "slide_type": ""
    },
    "tags": []
   },
   "source": [
    "## Les objectifs \n",
    "\n",
    "Les objectifs de cette séance sont multiples mais concernent principalement la Programmation Orientée Objet (manipulation et création de classe) et la compréhension des structures de données `File` et `Pile` étudiées pendant le `CM3` et (au moins) une séance de `TD`.\n",
    "\n",
    "## La classe `File`\n",
    "\n",
    "<div class=\"alert alert-warning\">\n",
    "\n",
    "Cette classe sera probablement utile dans la suite du `TP` : penser à exécuter la cellule la contenant !\n",
    "\n",
    "</div>"
   ]
  },
  {
   "cell_type": "code",
   "execution_count": 53,
   "metadata": {
    "editable": false,
    "slideshow": {
     "slide_type": ""
    },
    "tags": []
   },
   "outputs": [],
   "source": [
    "class File:\n",
    "    # Liste en argument pour faciliter l’initialisation\n",
    "    def __init__(self,):\n",
    "        self.file = list()\n",
    "\n",
    "    def __str__(self):\n",
    "        res = \"[ \"\n",
    "        for e in self.file[:-1]:\n",
    "            res += str(e) + \", \"\n",
    "        res += str(self.file[-1]) +\" ]\"\n",
    "        return res\n",
    "\n",
    "    def enfiler(self, element):\n",
    "        self.file.insert(0,element)\n",
    "\n",
    "    def defiler(self):\n",
    "        if self.file:\n",
    "            e = self.file.pop()\n",
    "            return e\n",
    "\n",
    "    def est_vide(self):\n",
    "        return len(self.file)==0\n",
    "\n",
    "    def tete(self):\n",
    "        return self.file[-1]"
   ]
  },
  {
   "cell_type": "markdown",
   "metadata": {
    "editable": false,
    "slideshow": {
     "slide_type": ""
    },
    "tags": []
   },
   "source": [
    "## Exercice 1 : la classe Pile\n",
    "\n",
    "En vous inspirant de la classe `File` dont le code est fourni ci-dessus, compléter la classe `Pile` ci dessous en écrivant les méthodes : \n",
    "\n",
    "1. ` __str__(self)` qui retourne la chaîne de caractères qu'il faut afficher lorsque l'on appelle la fonction `print` sur l'objet et qui permettra donc d'afficher le contenu d'une pile.\n",
    "1. `est_vide(self)` qui renvoie `False` si la pile contient au moins un élément et `True` sinon.\n",
    "1. `sommet(self)` qui retourne l'élément en sommet de pile. \n",
    "1. `empiler(self)` qui rajoute un élément dans la pile.\n",
    "1. `depiler(self)` qui enlève le dernier élément de la pile et retourne sa valeur. **Penser à bien vérifier que la pile n’est pas vide**. \n",
    "\n",
    "<div class=\"alert alert-info\">\n",
    "\n",
    "Les instructions `pass` doivent être **supprimées et remplacées par le code de votre méthode**.\n",
    "\n",
    "</div>"
   ]
  },
  {
   "cell_type": "code",
   "execution_count": 78,
   "metadata": {
    "slideshow": {
     "slide_type": ""
    },
    "tags": []
   },
   "outputs": [],
   "source": [
    "class Pile:\n",
    "    # la hauteur est demandée après l’écriture de nb_éléments\n",
    "    \n",
    "    def __init__(self):   # initiation des attributs de la classe qui vont etre utilisés\n",
    "        \n",
    "        self.__pile = list()   #pile est un attribut \n",
    "        self.hauteur = 0\n",
    "        \n",
    "#remarque quand un attribut est écrit par \" __ \" donc 2 tirets alors cet attribut est considéré comme privé\n",
    "#soit inutilisable en dehors de la classe  \n",
    "\n",
    "    def __str__(self):\n",
    "        s = \"[ \"\n",
    "        for e in self.__pile[ : :-1]:   # 1 départ , 2 arrivé , 3 pas \n",
    "            s += str(e) + \",\" \n",
    "        s+= str(self.__pile[0])+\"]\"\n",
    "        return s\n",
    "\n",
    "    def est_vide(self):\n",
    "        return len(self.__pile)==0 \n",
    "    \n",
    "    # 0 est le premier élément donc lorsque atteint si pas d'élement défini bien que la pile est vide\n",
    "                                    \n",
    "\n",
    "    def sommet(self):\n",
    "        if not self.est_vide() :\n",
    "            return self.__pile[-1]      # -1 pour accéder au dernier element une pile fonctionne comme une liste\n",
    "\n",
    "    def empiler(self, element):\n",
    "        self.__pile.append(element)\n",
    "        self.hauteur +=1\n",
    "\n",
    "    def depiler(self):\n",
    "        if not self.est_vide():    # on pourrait écrire également if self.__pile\n",
    "            e = self.__pile.pop()\n",
    "            self.hauteur -=1\n",
    "            return e"
   ]
  },
  {
   "cell_type": "markdown",
   "metadata": {
    "editable": false,
    "slideshow": {
     "slide_type": ""
    },
    "tags": []
   },
   "source": [
    "<div class=\"alert alert-block alert-warning\"><b>Code de test</b>. Le code ci-dessous permet de tester votre classe `Pile`.</div>"
   ]
  },
  {
   "cell_type": "code",
   "execution_count": 68,
   "metadata": {
    "editable": false,
    "slideshow": {
     "slide_type": ""
    },
    "tags": []
   },
   "outputs": [
    {
     "name": "stdout",
     "output_type": "stream",
     "text": [
      "vide ?  True\n",
      "vide ?  False\n",
      "contenu de mapile :  [ 5,4,3,2,1]\n",
      "sommet de mapile :  5\n",
      "depiler :  5\n",
      "contenu de mapile :  [ 4,3,2,1]\n"
     ]
    }
   ],
   "source": [
    "mapile = Pile()\n",
    "print(\"vide ? \", mapile.est_vide())\n",
    "for elt in [1,2,3,4,5] :\n",
    "    mapile.empiler(elt)\n",
    "print(\"vide ? \", mapile.est_vide())\n",
    "print(\"contenu de mapile : \", mapile)\n",
    "print(\"sommet de mapile : \", mapile.sommet())\n",
    "print(\"depiler : \", mapile.depiler())\n",
    "print(\"contenu de mapile : \", mapile)"
   ]
  },
  {
   "cell_type": "code",
   "execution_count": 45,
   "metadata": {},
   "outputs": [
    {
     "name": "stdout",
     "output_type": "stream",
     "text": [
      "vide ?  True\n",
      "vide ?  False\n",
      "contenu de mapile :  [ 5,4,3,2,1]\n",
      "sommet de mapile :  5\n",
      "depiler :  5\n",
      "contenu de mapile :  [ 4,3,2,1]\n",
      "depiler :  4\n",
      "contenu de mapile :  [ 3,2,1]\n"
     ]
    }
   ],
   "source": [
    "mapile = Pile()\n",
    "print(\"vide ? \", mapile.est_vide())\n",
    "for elt in [1,2,3,4,5] :\n",
    "    mapile.empiler(elt)\n",
    "print(\"vide ? \", mapile.est_vide())\n",
    "print(\"contenu de mapile : \", mapile)\n",
    "print(\"sommet de mapile : \", mapile.sommet())\n",
    "print(\"depiler : \", mapile.depiler())\n",
    "print(\"contenu de mapile : \", mapile)\n",
    "print(\"depiler : \", mapile.depiler())   #on doit recopier l'attribut depiler pour changer le contenu de mapile\n",
    "print(\"contenu de mapile : \", mapile)"
   ]
  },
  {
   "cell_type": "markdown",
   "metadata": {
    "editable": false,
    "slideshow": {
     "slide_type": ""
    },
    "tags": []
   },
   "source": [
    "# Utilisations de la classe Pile\n",
    "\n",
    "Les deux exercices suivants vont utiliser la classe `Pile` produite ci-dessus **et uniquement cette dernière**. En particulier, les seules manières de manipuler une pile est d’utiliser les méthodes de la classe `Pile`, à savoir `Pile()`, `empiler`, `depiler`, …\n",
    "\n",
    "<div class=\"alert alert-warning\">\n",
    "\n",
    "**Et l’attribut `self.__pile` ?** Comme l’indiquent les deux caractères `_` placés devant le nom de l’attribut, ce dernier est **privé**. Il est donc impossible d’y accéder depuis l’extérieur de la classe. \n",
    "\n",
    "</div>"
   ]
  },
  {
   "cell_type": "markdown",
   "metadata": {
    "editable": false,
    "slideshow": {
     "slide_type": ""
    },
    "tags": []
   },
   "source": [
    "## Exercice 2 : Pancake sorting\n",
    "\n",
    "Le problème du [Pancake sorting](https://en.wikipedia.org/wiki/Pancake_sorting) consiste à trier une pile de pancakes, ayant tous une taille différente, en mettant le plus grand en bas de la pile et le plus petit à son sommet. Pour arriver à ce résultat, on dispose uniquement d’une spatule qui permet de renverser partiellement la pile : \n",
    "\n",
    "![La spatule se place à un endroit de la pile et retourne tous les pancakes situés au-dessus](images/flip.png)\n",
    "\n",
    "<div class=\"alert alert-info\">\n",
    "\n",
    "**Comment trier**. Une stratégie de tri peut être obtenue en répétant les opérations suivantes : \n",
    "\n",
    "+ Repérer la position du plus grand élément de la pile\n",
    "+ Placer la spatule en-dessous et inverser la pile : le plus grand élément se retrouve maintenant au sommet de la pile.\n",
    "+ Inverser la totalité de la pile (en plaçant la spatule tout en bas). Le plus grand élément se retrouve en bas de la pile !\n",
    "+ Recommencer ces opérations en ne considérant la pile que sur la hauteur correspondant aux éléments non triés.\n",
    "\n",
    "</div>\n",
    "\n",
    "Le code permettant de réaliser cette opération vous est donné ci-dessous, l’objectif est d’implémenter toutes les fonctions permettant de le faire fonctionner. \n",
    "\n",
    "```python\n",
    "def pancake_sorting(P):\n",
    "    h = nb_elements(P)\n",
    "    while(h>1):\n",
    "        indice_max = position_plus_grand_element(P,h)\n",
    "        retourner(P,indice_max)\n",
    "        print(f\"Flip des {indice_max} premiers pancakes :\\n{P}\")\n",
    "        retourner(P,h)\n",
    "        print(f\"\\nFlip de tous les pancakes :\\n{P}\\n\")\n",
    "        h = h-1\n",
    "```\n",
    "\n",
    "1. Donner le code d’une fonction `nb_elements(P)` qui retourne le nombre d’éléments de la pile `P` passée en paramètres.\n",
    "\n",
    "<div class=\"alert alert-warning\">\n",
    "\n",
    "**Attention** : la pile `P` passée en argument doit rester inchangée à la fin de l’appel de la fonction.\n",
    "\n",
    "</div>"
   ]
  },
  {
   "cell_type": "code",
   "execution_count": 46,
   "metadata": {},
   "outputs": [],
   "source": [
    "#solution 1\n",
    "def hauteur_pile(self):              # sinon on peut rajouter dans la classe Pile l'attribut hauteur \n",
    "    return len(self.__pile)     # il faudra mettre a jour l'attribut hauteur a chaque fois qu'on empile / depile"
   ]
  },
  {
   "cell_type": "code",
   "execution_count": 79,
   "metadata": {
    "slideshow": {
     "slide_type": ""
    },
    "tags": []
   },
   "outputs": [],
   "source": [
    "def nb_elements(P):\n",
    "    return P.hauteur"
   ]
  },
  {
   "cell_type": "markdown",
   "metadata": {
    "editable": false,
    "slideshow": {
     "slide_type": ""
    },
    "tags": []
   },
   "source": [
    "1. Donner le code de la fonction `position_plus_grand_element(P,h)` retournant la position dans la pile de l’élément de plus grande valeur **parmi les $h$ premiers éléments** (le sommet de la pile étant le premier élément).\n",
    "\n",
    "<div class=\"alert alert-warning\">\n",
    "\n",
    "**Attention** : la pile `P` passée en argument doit rester inchangée à la fin de l’appel de la fonction.\n",
    "\n",
    "</div>"
   ]
  },
  {
   "cell_type": "code",
   "execution_count": 80,
   "metadata": {
    "slideshow": {
     "slide_type": ""
    },
    "tags": []
   },
   "outputs": [],
   "source": [
    "def position_plus_grand_element(P,h):\n",
    "    tmp = Pile()\n",
    "    elt_max = P.depiler()\n",
    "    tmp.empiler(elt_max)\n",
    "    ind_max = 1\n",
    "    for i in range (2 , h+1) :  # on démarre la boucle au 2eme élément , car on a déja depiler le 1er element \n",
    "        elt = P.depiler()\n",
    "        tmp.empiler(elt)\n",
    "        if elt > elt_max :\n",
    "            elt_max = elt \n",
    "            ind_max += 1\n",
    "    while not tmp.est_vide():\n",
    "        P.empiler(tmp.depiler())\n",
    "    return ind_max"
   ]
  },
  {
   "cell_type": "markdown",
   "metadata": {
    "editable": false,
    "slideshow": {
     "slide_type": ""
    },
    "tags": []
   },
   "source": [
    "2. Donner le code d’une fonction `retourner(P,indice_max)` retournant tous les éléments de la pile **du sommet à l’élément de position `indice_max`**. Attention, les éléments de la pile sont numérotés de $1$ (le sommet) à $nb_elements(P)$. \n",
    "\n",
    "<div class=\"alert alert-success\">\n",
    "\n",
    "**Indice** : Il peut être utile d’utiliser la classe `File` pour réaliser cette opération.\n",
    "\n",
    "</div>"
   ]
  },
  {
   "cell_type": "code",
   "execution_count": 84,
   "metadata": {
    "slideshow": {
     "slide_type": ""
    },
    "tags": []
   },
   "outputs": [],
   "source": [
    "def retourner(P,h):\n",
    "    cptr = 0\n",
    "    tmp = File() \n",
    "    while cptr < h :\n",
    "        tmp.enfiler(P.depiler())\n",
    "        cptr += 1 \n",
    "    cptr = 0  \n",
    "    while cptr < h:\n",
    "        P.empiler(tmp.defiler())\n",
    "        cptr +=1\n",
    "        "
   ]
  },
  {
   "cell_type": "markdown",
   "metadata": {
    "editable": false,
    "slideshow": {
     "slide_type": ""
    },
    "tags": []
   },
   "source": [
    "<div class=\"alert alert-warning\">\n",
    "\n",
    "**Cellule de test.** \n",
    "\n",
    "</div>"
   ]
  },
  {
   "cell_type": "code",
   "execution_count": 85,
   "metadata": {},
   "outputs": [],
   "source": [
    "def pancake_sorting(P):\n",
    "    h= nb_elements(P)\n",
    "    print (h)\n",
    "    while(h>1):\n",
    "        indice_max = position_plus_grand_element(P,h)\n",
    "        retourner(P,indice_max)\n",
    "        print(f\"Flip des {indice_max} premiers pancakes :\\n{P}\")\n",
    "        retourner(P,h)\n",
    "        print(f\"\\nFlip de tous les pancakes :\\n{P}\\n\")\n",
    "        h = h-1"
   ]
  },
  {
   "cell_type": "code",
   "execution_count": 86,
   "metadata": {
    "editable": false,
    "slideshow": {
     "slide_type": ""
    },
    "tags": []
   },
   "outputs": [
    {
     "name": "stdout",
     "output_type": "stream",
     "text": [
      "Affichage de la pile initiale :\n",
      "[ 1,6,7,5,10,2,3,9,8,4,4]\n",
      "\n",
      "10\n",
      "Flip des 4 premiers pancakes :\n",
      "[ 5,7,6,1,10,2,3,9,8,4,4]\n",
      "\n",
      "Flip de tous les pancakes :\n",
      "[ 4,8,9,3,2,10,1,6,7,5,5]\n",
      "\n",
      "Flip des 4 premiers pancakes :\n",
      "[ 3,9,8,4,2,10,1,6,7,5,5]\n",
      "\n",
      "Flip de tous les pancakes :\n",
      "[ 7,6,1,10,2,4,8,9,3,5,5]\n",
      "\n",
      "Flip des 2 premiers pancakes :\n",
      "[ 6,7,1,10,2,4,8,9,3,5,5]\n",
      "\n",
      "Flip de tous les pancakes :\n",
      "[ 9,8,4,2,10,1,7,6,3,5,5]\n",
      "\n",
      "Flip des 2 premiers pancakes :\n",
      "[ 8,9,4,2,10,1,7,6,3,5,5]\n",
      "\n",
      "Flip de tous les pancakes :\n",
      "[ 7,1,10,2,4,9,8,6,3,5,5]\n",
      "\n",
      "Flip des 2 premiers pancakes :\n",
      "[ 1,7,10,2,4,9,8,6,3,5,5]\n",
      "\n",
      "Flip de tous les pancakes :\n",
      "[ 9,4,2,10,7,1,8,6,3,5,5]\n",
      "\n",
      "Flip des 2 premiers pancakes :\n",
      "[ 4,9,2,10,7,1,8,6,3,5,5]\n",
      "\n",
      "Flip de tous les pancakes :\n",
      "[ 7,10,2,9,4,1,8,6,3,5,5]\n",
      "\n",
      "Flip des 2 premiers pancakes :\n",
      "[ 10,7,2,9,4,1,8,6,3,5,5]\n",
      "\n",
      "Flip de tous les pancakes :\n",
      "[ 9,2,7,10,4,1,8,6,3,5,5]\n",
      "\n",
      "Flip des 1 premiers pancakes :\n",
      "[ 9,2,7,10,4,1,8,6,3,5,5]\n",
      "\n",
      "Flip de tous les pancakes :\n",
      "[ 7,2,9,10,4,1,8,6,3,5,5]\n",
      "\n",
      "Flip des 1 premiers pancakes :\n",
      "[ 7,2,9,10,4,1,8,6,3,5,5]\n",
      "\n",
      "Flip de tous les pancakes :\n",
      "[ 2,7,9,10,4,1,8,6,3,5,5]\n",
      "\n"
     ]
    }
   ],
   "source": [
    "import random\n",
    "\n",
    "# création d’une liste aléatoire avec des valeurs entre 1 et 10\n",
    "liste = [ i for i in range(1,11) ]\n",
    "# cette méthode permet de mélanger les éléments de la liste\n",
    "random.shuffle(liste)\n",
    "\n",
    "pile_a_trier = Pile()\n",
    "for element in liste:\n",
    "    pile_a_trier.empiler(element)\n",
    "    \n",
    "print(f\"Affichage de la pile initiale :\\n{pile_a_trier}\\n\")   \n",
    "pancake_sorting(pile_a_trier)"
   ]
  },
  {
   "cell_type": "code",
   "execution_count": null,
   "metadata": {},
   "outputs": [],
   "source": []
  },
  {
   "cell_type": "markdown",
   "metadata": {
    "editable": false,
    "slideshow": {
     "slide_type": ""
    },
    "tags": []
   },
   "source": [
    "<div class=\"alert alert-warning\">\n",
    "\n",
    "**Enrichissement de la classe `Pile`.** La fonction `nb_elements` pourrait-elle être incluse dans la classe `Pile` et maintenue plus simplement ? L’ajout d’un attribut voire de la surcharge de la méthode `__len__(self)` peut s’avérer très utile en ce cas. \n",
    "\n",
    "</div>"
   ]
  },
  {
   "cell_type": "markdown",
   "metadata": {
    "editable": false,
    "slideshow": {
     "slide_type": ""
    },
    "tags": []
   },
   "source": [
    "## Exercice 3 : évaluation d'une expression arithmétique\n",
    "    \n",
    "<div class=\"alert alert-block alert-success\">Pour évaluer une expression arithmétique, on utilise généralement deux piles : une pile d’opérateurs et une pile d’opérandes.</div>\n",
    "\n",
    "+ À chaque lecture d’un opérande (c’est-à-dire d’une valeur, par exemple entière), on l’empile dans la pile des opérandes.\n",
    "+ À chaque lecture d’un opérateur (`+`, `-`, `*` ou `/`) :\n",
    "    \n",
    "     * soit sa priorité est supérieure à la priorité de l’opérateur du sommet de pile, alors on l’empile sur la pile des opérateurs ;\n",
    "\n",
    "     * soit sa priorité est inférieure ou égale à la priorité de l’opérateur du sommet de pile, alors on évalue jusqu’à ce que l’opérateur de sommet de pile soit de priorité inférieure ou égale à la priorité de l’opérateur lu, ou jusqu’à ce que la pile des opérateurs soit vide ; on y empile ensuite l’opérateur lu.\n",
    "\n",
    "+ Quand l’expression est complètement lue, on évalue jusqu’à ce que la pile d’opérateurs soit vide. Le résultat de l’évaluation est alors l’unique valeur contenue dans la pile d’opérandes.\n",
    "\n",
    "1. Écrire une fonction `priorite` qui prend en argument un caractère $c$ représentant l'une des 4 opérations binaires, et qui, s'il s'agit de l'addition ou de la soustraction retourne 1, sinon retourne 2."
   ]
  },
  {
   "cell_type": "code",
   "execution_count": null,
   "metadata": {
    "slideshow": {
     "slide_type": ""
    },
    "tags": []
   },
   "outputs": [],
   "source": [
    "def priorite(c):\n",
    "    \"\"\"renvoie 1 si c vaut + ou -, sinon renvoie 2\"\"\"\n",
    "    pass"
   ]
  },
  {
   "cell_type": "markdown",
   "metadata": {
    "editable": false,
    "slideshow": {
     "slide_type": ""
    },
    "tags": []
   },
   "source": [
    "2. Écrire une fonction `eval_op` qui prend en arguments un caractère $op$ représentant une des 4 opérations binaires et 2 valeurs entières $x_1$ et $x_2$, qui applique l'opération à ces valeurs et en retourne le résultat.\n"
   ]
  },
  {
   "cell_type": "code",
   "execution_count": null,
   "metadata": {
    "slideshow": {
     "slide_type": ""
    },
    "tags": []
   },
   "outputs": [],
   "source": [
    "def eval_op(op, x1, x2):\n",
    "    \"\"\"retourne le résultat de l'évaluation de 'x1 op x2' \"\"\"\n",
    "    pass"
   ]
  },
  {
   "cell_type": "markdown",
   "metadata": {
    "editable": false,
    "slideshow": {
     "slide_type": ""
    },
    "tags": []
   },
   "source": [
    "<div class=\"alert alert-warning\">\n",
    "\n",
    "L’appel de fonction `eval_op('/', 9, 2)` doit retourner $4$.\n",
    "\n",
    "</div>\n",
    "\n",
    "2. Écrire la fonction `evaluer` telle que `evaluer(liste)` évalue l'expression arithmétique contenue dans `liste`. L'évaluation doit tenir compte de la priorité des opérateurs et utiliser une pile d'entiers pour les opérandes et une pile de caractères pour les opérateurs."
   ]
  },
  {
   "cell_type": "code",
   "execution_count": null,
   "metadata": {
    "slideshow": {
     "slide_type": ""
    },
    "tags": []
   },
   "outputs": [],
   "source": [
    "def evaluer(liste):\n",
    "    \"\"\"évalue l'expression arithmétique contenue dans liste\"\"\"\n",
    "    pass"
   ]
  },
  {
   "cell_type": "markdown",
   "metadata": {
    "editable": false,
    "slideshow": {
     "slide_type": ""
    },
    "tags": []
   },
   "source": [
    "<div class=\"alert alert-block alert-warning\">\n",
    "    \n",
    "<b>Code de test</b>. Le code ci-dessous permet de tester votre fonction `evaluer`.\n",
    "\n",
    "</div>"
   ]
  },
  {
   "cell_type": "code",
   "execution_count": null,
   "metadata": {
    "editable": false,
    "slideshow": {
     "slide_type": ""
    },
    "tags": []
   },
   "outputs": [],
   "source": [
    "li = [4]\n",
    "print(li, \"= \", evaluer(li))\n",
    "li = [4, '+', 5, '-', 3, '*', 2]\n",
    "print(li, \"= \", evaluer(li))\n",
    "li = [4, '*', 2, '+', 5]\n",
    "print(li, \"= \", evaluer(li))        \n",
    "li = [4, '+', 5, '-', 3]\n",
    "print(li, \"= \", evaluer(li))"
   ]
  },
  {
   "cell_type": "code",
   "execution_count": null,
   "metadata": {
    "slideshow": {
     "slide_type": ""
    },
    "tags": []
   },
   "outputs": [],
   "source": []
  }
 ],
 "metadata": {
  "kernelspec": {
   "display_name": "Python 3 (ipykernel)",
   "language": "python",
   "name": "python3"
  },
  "language_info": {
   "codemirror_mode": {
    "name": "ipython",
    "version": 3
   },
   "file_extension": ".py",
   "mimetype": "text/x-python",
   "name": "python",
   "nbconvert_exporter": "python",
   "pygments_lexer": "ipython3",
   "version": "3.10.12"
  }
 },
 "nbformat": 4,
 "nbformat_minor": 4
}
