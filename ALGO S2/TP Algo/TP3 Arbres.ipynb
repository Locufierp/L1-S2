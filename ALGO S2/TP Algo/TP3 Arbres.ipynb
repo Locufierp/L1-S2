{
 "cells": [
  {
   "cell_type": "markdown",
   "metadata": {
    "slideshow": {
     "slide_type": ""
    },
    "tags": []
   },
   "source": [
    "#### Université d’Orléans - 2024/2025  <span style=\"float: right;\"> Algorithmique et Programmation 2</span>     "
   ]
  },
  {
   "cell_type": "markdown",
   "metadata": {
    "slideshow": {
     "slide_type": ""
    },
    "tags": []
   },
   "source": [
    "<h1 style=\"text-align: center\">TP3 : Arbres binaires et Arbres binaires de Recherche</h1>"
   ]
  },
  {
   "cell_type": "markdown",
   "metadata": {
    "editable": false,
    "slideshow": {
     "slide_type": ""
    },
    "tags": []
   },
   "source": [
    "## 1. Arbres binaires\n",
    "\n",
    "<div class=\"alert alert-info\">\n",
    "    \n",
    "Un **arbre binaire** a la particularité de posséder au plus deux enfants, appelés `gauche` et `droit`. \n",
    "    \n",
    "</div>\n",
    "\n",
    "Soient les classes `NoeudBinaire` et `ArbreBinaire` correspondant aux définitions suivantes:\n",
    "+ `NoeudBinaire()` : crée un NoeudBinaire vide.\n",
    "    + `n.cle` : permet d’accéder à la valeur stockée dans le nœud `n`.\n",
    "    + `n.gauche` : permet d’accéder à l’enfant gauche du nœud `n`.\n",
    "    + `n.droit` : permet d’accéder à l’enfant droit du nœud `n`.\n",
    "+ `ArbreBinaire()` : crée un arbre binaire vide.\n",
    "    + `a.racine` : permet d’accéder à la racine de l’arbre `a`.\n",
    "\n",
    "<div class=\"alert alert-warning\">\n",
    "    \n",
    "Exécuter la cellule ci dessous.\n",
    "\n",
    "</div>"
   ]
  },
  {
   "cell_type": "code",
   "execution_count": 1,
   "metadata": {
    "scrolled": true,
    "slideshow": {
     "slide_type": ""
    },
    "tags": []
   },
   "outputs": [],
   "source": [
    "class NoeudBinaire:\n",
    "    def __init__(self, data = None, g = None, d = None):\n",
    "        self.cle = data\n",
    "        self.gauche = g\n",
    "        self.droit = d\n",
    "        \n",
    "    def __str__(self) :\n",
    "        return str(self.cle)    \n",
    "\n",
    "class ArbreBinaire:\n",
    "    def __init__(self, root = None):\n",
    "        self.racine = root"
   ]
  },
  {
   "cell_type": "markdown",
   "metadata": {
    "editable": false,
    "slideshow": {
     "slide_type": ""
    },
    "tags": []
   },
   "source": [
    "### Création et affichage d'un arbre binaire\n",
    "\n",
    "Un arbre binaire peut être représenté par une série de tuples de la forme `(clé, arbre_gauche, arbre_droit)`. \n",
    "Les variables `arbre_gauche` et `arbre_droit` seront elles-mêmes représentées sous forme de tuples, on aura donc des tuples qui contiendront des tuples qui, eux-mêmes, contiendront des tuples...\n",
    "\n",
    "On utilisera cette représentation pour afficher un arbre binaire, en utilisant bien entendu les classes `NoeudBinaire` (pour représenter les tuples) et `ArbreBinaire` pour initialiser la racine.\n",
    "\n",
    "1. Écrire un code pour créer un Arbre Binaire `mon_arbre`, représentant l'arbre suivant :\n",
    "$$(0, (1, (3, (7, None, None), (9, None, None)), (5, None, None)), (2, (4, None, None), (6, (8, None, None), None)))$$\n",
    "\n",
    "<div class=\"alert alert-success\">\n",
    "    Ne pas hésiter à dessiner l’arbre pour bien comprendre la structure de gestion par tuples. \n",
    "</div>"
   ]
  },
  {
   "cell_type": "code",
   "execution_count": 45,
   "metadata": {},
   "outputs": [],
   "source": [
    "# Ecrire le code permettant de créer mon_arbre tel que décrit ci dessus\n",
    "six = NoeudBinaire(6 , (8,None , None ) , None)\n",
    "sept = NoeudBinaire(7 , None , None)\n",
    "trois =NoeudBinaire(3 , sept , NoeudBinaire ( 9 , None , None ))\n",
    "deux = NoeudBinaire ( 2 ,NoeudBinaire(4,None,None))\n",
    "un = NoeudBinaire(1 , trois , NoeudBinaire ( 5 , None , None))\n",
    "root = NoeudBinaire(1 , trois , NoeudBinaire ( 5 , None , None ))\n",
    "mon_arbre = ArbreBinaire(root)\n"
   ]
  },
  {
   "cell_type": "markdown",
   "metadata": {
    "editable": false,
    "slideshow": {
     "slide_type": ""
    },
    "tags": []
   },
   "source": [
    "2. Écrire une fonction récursive `noeud_vers_liste(n)` qui retourne une liste de tuples correspondant à la structure du Noeud Binaire `n`. "
   ]
  },
  {
   "cell_type": "code",
   "execution_count": 46,
   "metadata": {},
   "outputs": [],
   "source": [
    "def noeud_vers_liste(n):\n",
    "    if n is not None :\n",
    "        return (n.cle ,noeud_vers_liste(n.gauche),noeud_vers_liste(n.droit))"
   ]
  },
  {
   "cell_type": "markdown",
   "metadata": {
    "editable": false,
    "slideshow": {
     "slide_type": ""
    },
    "tags": []
   },
   "source": [
    "3. En utilisant la fonction précédente, écrire une fonction `afficher(n)` qui affichera la structure du Noeud Binaire `n` sous la forme d'une liste de tuples."
   ]
  },
  {
   "cell_type": "code",
   "execution_count": 47,
   "metadata": {},
   "outputs": [],
   "source": [
    "def afficher(n):\n",
    "    # REMPLACER l’instruction pass par votre code\n",
    "    print(noeud_vers_liste(n))"
   ]
  },
  {
   "cell_type": "markdown",
   "metadata": {
    "editable": false,
    "slideshow": {
     "slide_type": ""
    },
    "tags": []
   },
   "source": [
    "<div class=\"alert alert-warning\">   \n",
    "    \n",
    "**Tester les fonctions** en vérifiant l'affichage de la racine de `mon_arbre`.   \n",
    "\n",
    "</div>"
   ]
  },
  {
   "cell_type": "code",
   "execution_count": 19,
   "metadata": {},
   "outputs": [
    {
     "name": "stdout",
     "output_type": "stream",
     "text": [
      "Affichage de mon_arbre :\n",
      "(1, (3, (7, None, None), (9, None, None)), (5, None, None))\n",
      "\n",
      "Affichage du noeud 5 :\n",
      "\n",
      "Affichage du noeud 6 :\n"
     ]
    }
   ],
   "source": [
    "print(\"Affichage de mon_arbre :\")\n",
    "# écrire l'instruction pour afficher mon_arbre\n",
    "afficher(root)\n",
    "print(\"\\nAffichage du noeud 5 :\")\n",
    "# écrire l'instruction pour afficher le noeud étiqueté par 5\n",
    "print(\"\\nAffichage du noeud 6 :\")\n",
    "# écrire l'instruction pour afficher le noeud étiqueté par 6"
   ]
  },
  {
   "cell_type": "markdown",
   "metadata": {
    "editable": false,
    "slideshow": {
     "slide_type": ""
    },
    "tags": []
   },
   "source": [
    "### Quelques fonctions primitives sur les arbres binaires\n",
    "\n",
    "1. Écrire une fonction `est_feuille(n)` prenant en argument un nœud `n` et retournant `True` si le nœud est une feuille et `False` sinon."
   ]
  },
  {
   "cell_type": "code",
   "execution_count": 61,
   "metadata": {},
   "outputs": [],
   "source": [
    "def est_feuille(n):\n",
    "    # REMPLACER l’instruction pass par votre code\n",
    "    if n is None :\n",
    "        return True \n",
    "    else : \n",
    "        return n.gauche is None and n.droit is None "
   ]
  },
  {
   "cell_type": "markdown",
   "metadata": {
    "editable": false,
    "slideshow": {
     "slide_type": ""
    },
    "tags": []
   },
   "source": [
    "2. Écrire une fonction `hauteur(a)` qui prend en argument un arbre binaire `a` et retourne sa hauteur. On appelle hauteur d’un arbre la longueur maximale d’un chemin direct de la racine à un noeud quelconque de l’arbre. On pourra écrire au préalable une fonction `hauteur_noeud(n)`, retournant la hauteur à partir d'un noeud `n`."
   ]
  },
  {
   "cell_type": "code",
   "execution_count": 62,
   "metadata": {},
   "outputs": [],
   "source": [
    "def hauteur_noeud(n):\n",
    "    # REMPLACER l’instruction pass par votre code\n",
    "    if n is None or est_feuille(n):\n",
    "        return 0\n",
    "    return 1+ max (hauteur_noeud(n.gauche),hauteur_noeud(n.droit))\n",
    "\n",
    "def hauteur(a):\n",
    "    # REMPLACER l’instruction pass par votre code\n",
    "    return hauteur_noeud(a.racine)"
   ]
  },
  {
   "cell_type": "markdown",
   "metadata": {
    "editable": false,
    "slideshow": {
     "slide_type": ""
    },
    "tags": []
   },
   "source": [
    "3. Écrire une fonction `nb_noeuds(a)` qui prend en argument un arbre binaire `a` et qui retourne le nombre de nœuds qu'il contient."
   ]
  },
  {
   "cell_type": "code",
   "execution_count": 63,
   "metadata": {},
   "outputs": [],
   "source": [
    "def nb_noeuds(n):\n",
    "    # REMPLACER l’instruction pass par votre code\n",
    "    if n is None or est_feuille(n):\n",
    "        return 0\n",
    "    return 1+nb_noeuds(n.gauche)+ nb_noeuds(n.droit)"
   ]
  },
  {
   "cell_type": "markdown",
   "metadata": {
    "editable": false,
    "slideshow": {
     "slide_type": ""
    },
    "tags": []
   },
   "source": [
    "4. Écrire une fonction `nb_feuilles(a)` qui prend en argument un arbre binaire `a` et qui retourne le nombre de ses feuilles. On rappelle qu'une feuille est un noeud de l'arbre qui n'a pas d’enfants."
   ]
  },
  {
   "cell_type": "code",
   "execution_count": 64,
   "metadata": {},
   "outputs": [],
   "source": [
    "def nb_feuilles_noeud(n):\n",
    "    # REMPLACER l’instruction pass par votre code\n",
    "    if est_feuille(n):\n",
    "        return 1\n",
    "    res = 0\n",
    "    if n.gauche is not None :\n",
    "        res += nb_feuilles_noeud(n.gauche)\n",
    "    if n.droit is not None :\n",
    "        res += nb_feuilles_noeud(n.droit)\n",
    "    return res"
   ]
  },
  {
   "cell_type": "markdown",
   "metadata": {
    "editable": false,
    "slideshow": {
     "slide_type": ""
    },
    "tags": []
   },
   "source": [
    "5. Écrire une fonction `somme_feuilles(a)` qui prend en argument un arbre binaire `a` et qui retourne la somme des étiquettes de toutes ses feuilles."
   ]
  },
  {
   "cell_type": "code",
   "execution_count": 65,
   "metadata": {},
   "outputs": [],
   "source": [
    "def somme_feuilles_noeud(n):\n",
    "    # REMPLACER l’instruction pass par votre code\n",
    "    if n is None :\n",
    "        return 0\n",
    "    elif est_feuille(n):\n",
    "        return n.cle\n",
    "    else:\n",
    "        return somme_feuilles_noeud(n.gauche) + somme_feuilles_noeud(n.droit)"
   ]
  },
  {
   "cell_type": "markdown",
   "metadata": {
    "editable": false,
    "slideshow": {
     "slide_type": ""
    },
    "tags": []
   },
   "source": [
    "<div class=\"alert alert-warning\">\n",
    "\n",
    "**Tester les fonctions**. L’instruction `assert expression_booleenne` se passe sans problème si `expression_booleenne` est évaluée à `True` et renvoie une erreur sinon. Cela permet de vérifier la validité des fonctions écrites. \n",
    "\n",
    "</div>"
   ]
  },
  {
   "cell_type": "code",
   "execution_count": 67,
   "metadata": {},
   "outputs": [
    {
     "name": "stdout",
     "output_type": "stream",
     "text": [
      "7 est une feuille :  True\n",
      "2 est une feuille :  False\n",
      "Nombre de noeuds de mon_arbre :  2\n",
      "Hauteur de mon_arbre :  2\n",
      "Nombre de feuilles de mon_arbre :  3\n",
      "Somme des feuilles de mon_arbre :  21\n"
     ]
    }
   ],
   "source": [
    "#Test des fonctions primitives : Décommenter toutes les lignes suivantes et compléter si indiqué\n",
    "print(\"7 est une feuille : \", est_feuille(sept))\n",
    "print(\"2 est une feuille : \", est_feuille(deux))\n",
    "\n",
    "#assert nb_noeuds() == 1\n",
    "#assert nb_noeuds_arbre(mon_arbre) == nb_noeuds(root)\n",
    "print(\"Nombre de noeuds de mon_arbre : \", nb_noeuds(mon_arbre.racine))\n",
    "\n",
    "#assert hauteur_noeud(root) == hauteur(mon_arbre)\n",
    "print(\"Hauteur de mon_arbre : \", hauteur(mon_arbre))\n",
    "\n",
    "#assert nb_feuilles_arbre(mon_arbre) == nb_feuilles(root)\n",
    "print(\"Nombre de feuilles de mon_arbre : \", nb_feuilles(mon_arbre.racine))\n",
    "\n",
    "print(\"Somme des feuilles de mon_arbre : \", somme_feuilles(mon_arbre.racine))"
   ]
  },
  {
   "cell_type": "markdown",
   "metadata": {
    "editable": false,
    "slideshow": {
     "slide_type": ""
    },
    "tags": []
   },
   "source": [
    "## 2. Parcours des arbres binaires (voir TD)\n",
    "\n",
    "1. Écrire une fonction `parcours_prefixe(n)` affichant le parcours préfixe à partir d'un noeud `n`."
   ]
  },
  {
   "cell_type": "code",
   "execution_count": null,
   "metadata": {},
   "outputs": [],
   "source": [
    "def parcours_prefixe(n):\n",
    "    # REMPLACER l’instruction pass par votre code\n",
    "    pass\n",
    "\n",
    "# TESTER parcours_prefixe(mon_arbre.racine)"
   ]
  },
  {
   "cell_type": "markdown",
   "metadata": {
    "editable": false,
    "slideshow": {
     "slide_type": ""
    },
    "tags": []
   },
   "source": [
    "2. Écrire une fonction `parcours_infixe(n)` affichant le parcours infixe à partir d'un noeud `n`."
   ]
  },
  {
   "cell_type": "code",
   "execution_count": null,
   "metadata": {},
   "outputs": [],
   "source": [
    "def parcours_infixe(n):\n",
    "    # REMPLACER l’instruction pass par votre code\n",
    "    pass\n",
    "\n",
    "# TESTER parcours_infixe(mon_arbre.racine)"
   ]
  },
  {
   "cell_type": "markdown",
   "metadata": {
    "editable": false,
    "slideshow": {
     "slide_type": ""
    },
    "tags": []
   },
   "source": [
    "3. Écrire une fonction `parcours_suffixe(n)` affichant le parcours suffixe à partir d'un noeud `n`."
   ]
  },
  {
   "cell_type": "code",
   "execution_count": null,
   "metadata": {},
   "outputs": [],
   "source": [
    "def parcours_suffixe(n):\n",
    "    # REMPLACER l’instruction pass par votre code\n",
    "    pass\n",
    "\n",
    "# TESTER parcours_suffixe(mon_arbre.racine)"
   ]
  },
  {
   "cell_type": "markdown",
   "metadata": {
    "editable": false,
    "slideshow": {
     "slide_type": ""
    },
    "tags": []
   },
   "source": [
    "## 3. Un arbre binaire pour une expression arithmétique\n",
    "\n",
    "Il s’agit de manipuler des expressions arithmétiques représentées sous forme d’arbres binaires. Une expression pourra contenir des entiers et des opérateurs. Chaque expression constitue donc un arbre.  \n",
    "\n",
    "<div class=\"alert alert-info\">\n",
    "    \n",
    "Pour limiter les problèmes d’arithmétique, on n’utilisera que les 3 opérateurs binaires **addition**, **soustraction** et **multiplication**. \n",
    "    \n",
    "</div>\n",
    "\n",
    "1. Définir une variable `mon_exp` de type `NoeudBinaire` qui représente une expression `e`. \n",
    "\n",
    "<div class=\"alert alert-success\">\n",
    "\n",
    "Par exemple :  `e = 3 + (2 * (10 - 5))`\n",
    "\n",
    "</div>\n",
    "\n",
    "2. Écrire une fonction `evaluer(exp)` qui évalue l'expression arithmétique `e`."
   ]
  },
  {
   "cell_type": "code",
   "execution_count": null,
   "metadata": {},
   "outputs": [],
   "source": [
    "# REMPLACER l’instruction pass par votre code permettant de créer mon_exp\n",
    "pass\n",
    "\n",
    "def evaluer(exp):\n",
    "    # REMPLACER l’instruction pass par votre code\n",
    "    pass\n",
    "\n",
    "# REMPLACER l’instruction pass par votre code permettant d'afficher mon_exp\n",
    "# puis d'afficher le résultat de son évaluation\n",
    "pass"
   ]
  },
  {
   "cell_type": "markdown",
   "metadata": {
    "editable": false,
    "slideshow": {
     "slide_type": ""
    },
    "tags": []
   },
   "source": [
    "# 4. Arbres binaires de recherche\n",
    "\n",
    "1. Écrire une fonction `est_abr(arbre)` prenant en paramètre un `ArbreBinaire` `arbre` et vérifiant s'il s'agit d'un arbre de recherche (ABR).\n",
    "\n",
    "<div class=\"alert alert-info\">\n",
    "\n",
    "**Rappel**. Chaque noeud d'un ABR vérifie la propriété suivante : les valeurs des descendants gauches sont inférieures à la valeur de ce noeud, et les valeurs des descendants droits lui sont supérieures.\n",
    "\n",
    "</div>"
   ]
  },
  {
   "cell_type": "code",
   "execution_count": null,
   "metadata": {},
   "outputs": [],
   "source": [
    "def est_abr(n):\n",
    "    # REMPLACER l’instruction pass par votre code\n",
    "    pass\n",
    "\n",
    "def est_abr_arbre(a):\n",
    "    # REMPLACER l’instruction pass par votre code\n",
    "    pass\n",
    "\n",
    "assert not est_abr_arbre(mon_arbre)\n",
    "\n",
    "deux_abr = NoeudBinaire(2)\n",
    "huit_abr = NoeudBinaire(8)\n",
    "quatre_abr = NoeudBinaire(4, deux_abr)\n",
    "six_abr = NoeudBinaire(6, None, huit_abr)\n",
    "root_abr = NoeudBinaire(5, quatre_abr, six_abr)\n",
    "mon_arbre_abr = ArbreBinaire(root_abr)\n",
    "\n",
    "assert est_abr_arbre(mon_arbre_abr)"
   ]
  }
 ],
 "metadata": {
  "kernelspec": {
   "display_name": "Python 3 (ipykernel)",
   "language": "python",
   "name": "python3"
  },
  "language_info": {
   "codemirror_mode": {
    "name": "ipython",
    "version": 3
   },
   "file_extension": ".py",
   "mimetype": "text/x-python",
   "name": "python",
   "nbconvert_exporter": "python",
   "pygments_lexer": "ipython3",
   "version": "3.10.12"
  }
 },
 "nbformat": 4,
 "nbformat_minor": 4
}
